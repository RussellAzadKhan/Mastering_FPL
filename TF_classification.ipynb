{
 "cells": [
  {
   "cell_type": "markdown",
   "metadata": {},
   "source": [
    "# Work in progress"
   ]
  },
  {
   "cell_type": "markdown",
   "metadata": {},
   "source": [
    "# Using deeplearning to predict Fantasy Premier League players performance \n",
    "\n",
    "Specifically, four categories of players have been identified using K-means clustering (see FPL data exploration notebook for now):\n",
    "\n",
    "(1) Low cost, low points <br>\n",
    "(2) Low cost, high points <br>\n",
    "(3) High cost, low points <br>\n",
    "(4) High cost, high points\n",
    "\n",
    "Tensorflow will be used to see if it is possible to predict which category a player will be in for the current season, based on the player data for the previous season.\n"
   ]
  },
  {
   "cell_type": "code",
   "execution_count": 1,
   "metadata": {
    "tags": []
   },
   "outputs": [
    {
     "output_type": "stream",
     "name": "stderr",
     "text": "\nBad key \"text.kerning_factor\" on line 4 in\nC:\\Users\\User\\anaconda3\\envs\\py3-TF2.0\\lib\\site-packages\\matplotlib\\mpl-data\\stylelib\\_classic_test_patch.mplstyle.\nYou probably need to get an updated matplotlibrc file from\nhttps://github.com/matplotlib/matplotlib/blob/v3.1.3/matplotlibrc.template\nor from the matplotlib source distribution\n"
    }
   ],
   "source": [
    "import pandas as pd\n",
    "import numpy as np\n",
    "from sklearn import preprocessing\n",
    "from sklearn.preprocessing import StandardScaler\n",
    "import tensorflow as tf\n",
    "import matplotlib.pyplot as plt\n",
    "import seaborn as sns"
   ]
  },
  {
   "cell_type": "markdown",
   "metadata": {},
   "source": [
    "## Preprocess dataset for Tensorflow"
   ]
  },
  {
   "cell_type": "code",
   "execution_count": 2,
   "metadata": {},
   "outputs": [
    {
     "output_type": "execute_result",
     "data": {
      "text/plain": "                            name  assists  bonus  bps  clean_sheets  \\\n0            Aaron_Cresswell_376        7     10  613            10   \n1               Aaron_Lennon_430        4      0  204             6   \n2                 Aaron_Mooy_516        3      8  576            10   \n3          Aaron_Wan-Bissaka_122        0      0  116             2   \n4         Abdoulaye_Doucouré_368        4     16  679             9   \n..                           ...      ...    ...  ...           ...   \n210            Wilfred_Ndidi_176        4      4  449             9   \n211            Wilfried_Zaha_133        7      8  404            10   \n212  Willian_Borges Da Silva_113        8     13  522             9   \n213              Will_Hughes_370        3      5  190             4   \n214          Xherdan_Shaqiri_194        9     19  554             6   \n\n     creativity  end_cost  goals_conceded  goals_scored  ict_index  ...  \\\n0         562.7        49              60             1      145.0  ...   \n1         203.2        54              30             0       73.3  ...   \n2         848.8        52              52             4      195.2  ...   \n3          60.0        45              10             0       26.8  ...   \n4         595.8        52              63             7      199.7  ...   \n..          ...       ...             ...           ...        ...  ...   \n210       230.7        49              45             0      117.2  ...   \n211       716.9        71              31             9      251.0  ...   \n212       891.5        70              19             6      224.5  ...   \n213       267.0        46              16             2       64.3  ...   \n214      1151.6        61              58             8      255.2  ...   \n\n     saves  start_cost  threat  total_points  yellow_cards  cost_18_19  cat_1  \\\n0        0          50   193.0           118             7          55      0   \n1        0          55   297.0            65             2          50      0   \n2        0          55   350.0           113             4          55      0   \n3        0          45     2.0            15             1          40      0   \n4        0          50   537.0           136            10          60      0   \n..     ...         ...     ...           ...           ...         ...    ...   \n210      0          50   299.0            78             6          50      0   \n211      0          70  1125.0           136             5          70      0   \n212      0          70   715.0           130             1          75      0   \n213      0          50   136.0            53             0          50      0   \n214      0          60   676.0           155             5          75      0   \n\n     cat_2  cat_3  cat_4  \n0        0      0      1  \n1        0      0      1  \n2        0      0      1  \n3        1      0      0  \n4        1      0      0  \n..     ...    ...    ...  \n210      0      0      1  \n211      1      0      0  \n212      0      1      0  \n213      0      0      1  \n214      0      1      0  \n\n[215 rows x 26 columns]",
      "text/html": "<div>\n<style scoped>\n    .dataframe tbody tr th:only-of-type {\n        vertical-align: middle;\n    }\n\n    .dataframe tbody tr th {\n        vertical-align: top;\n    }\n\n    .dataframe thead th {\n        text-align: right;\n    }\n</style>\n<table border=\"1\" class=\"dataframe\">\n  <thead>\n    <tr style=\"text-align: right;\">\n      <th></th>\n      <th>name</th>\n      <th>assists</th>\n      <th>bonus</th>\n      <th>bps</th>\n      <th>clean_sheets</th>\n      <th>creativity</th>\n      <th>end_cost</th>\n      <th>goals_conceded</th>\n      <th>goals_scored</th>\n      <th>ict_index</th>\n      <th>...</th>\n      <th>saves</th>\n      <th>start_cost</th>\n      <th>threat</th>\n      <th>total_points</th>\n      <th>yellow_cards</th>\n      <th>cost_18_19</th>\n      <th>cat_1</th>\n      <th>cat_2</th>\n      <th>cat_3</th>\n      <th>cat_4</th>\n    </tr>\n  </thead>\n  <tbody>\n    <tr>\n      <th>0</th>\n      <td>Aaron_Cresswell_376</td>\n      <td>7</td>\n      <td>10</td>\n      <td>613</td>\n      <td>10</td>\n      <td>562.7</td>\n      <td>49</td>\n      <td>60</td>\n      <td>1</td>\n      <td>145.0</td>\n      <td>...</td>\n      <td>0</td>\n      <td>50</td>\n      <td>193.0</td>\n      <td>118</td>\n      <td>7</td>\n      <td>55</td>\n      <td>0</td>\n      <td>0</td>\n      <td>0</td>\n      <td>1</td>\n    </tr>\n    <tr>\n      <th>1</th>\n      <td>Aaron_Lennon_430</td>\n      <td>4</td>\n      <td>0</td>\n      <td>204</td>\n      <td>6</td>\n      <td>203.2</td>\n      <td>54</td>\n      <td>30</td>\n      <td>0</td>\n      <td>73.3</td>\n      <td>...</td>\n      <td>0</td>\n      <td>55</td>\n      <td>297.0</td>\n      <td>65</td>\n      <td>2</td>\n      <td>50</td>\n      <td>0</td>\n      <td>0</td>\n      <td>0</td>\n      <td>1</td>\n    </tr>\n    <tr>\n      <th>2</th>\n      <td>Aaron_Mooy_516</td>\n      <td>3</td>\n      <td>8</td>\n      <td>576</td>\n      <td>10</td>\n      <td>848.8</td>\n      <td>52</td>\n      <td>52</td>\n      <td>4</td>\n      <td>195.2</td>\n      <td>...</td>\n      <td>0</td>\n      <td>55</td>\n      <td>350.0</td>\n      <td>113</td>\n      <td>4</td>\n      <td>55</td>\n      <td>0</td>\n      <td>0</td>\n      <td>0</td>\n      <td>1</td>\n    </tr>\n    <tr>\n      <th>3</th>\n      <td>Aaron_Wan-Bissaka_122</td>\n      <td>0</td>\n      <td>0</td>\n      <td>116</td>\n      <td>2</td>\n      <td>60.0</td>\n      <td>45</td>\n      <td>10</td>\n      <td>0</td>\n      <td>26.8</td>\n      <td>...</td>\n      <td>0</td>\n      <td>45</td>\n      <td>2.0</td>\n      <td>15</td>\n      <td>1</td>\n      <td>40</td>\n      <td>0</td>\n      <td>1</td>\n      <td>0</td>\n      <td>0</td>\n    </tr>\n    <tr>\n      <th>4</th>\n      <td>Abdoulaye_Doucouré_368</td>\n      <td>4</td>\n      <td>16</td>\n      <td>679</td>\n      <td>9</td>\n      <td>595.8</td>\n      <td>52</td>\n      <td>63</td>\n      <td>7</td>\n      <td>199.7</td>\n      <td>...</td>\n      <td>0</td>\n      <td>50</td>\n      <td>537.0</td>\n      <td>136</td>\n      <td>10</td>\n      <td>60</td>\n      <td>0</td>\n      <td>1</td>\n      <td>0</td>\n      <td>0</td>\n    </tr>\n    <tr>\n      <th>...</th>\n      <td>...</td>\n      <td>...</td>\n      <td>...</td>\n      <td>...</td>\n      <td>...</td>\n      <td>...</td>\n      <td>...</td>\n      <td>...</td>\n      <td>...</td>\n      <td>...</td>\n      <td>...</td>\n      <td>...</td>\n      <td>...</td>\n      <td>...</td>\n      <td>...</td>\n      <td>...</td>\n      <td>...</td>\n      <td>...</td>\n      <td>...</td>\n      <td>...</td>\n      <td>...</td>\n    </tr>\n    <tr>\n      <th>210</th>\n      <td>Wilfred_Ndidi_176</td>\n      <td>4</td>\n      <td>4</td>\n      <td>449</td>\n      <td>9</td>\n      <td>230.7</td>\n      <td>49</td>\n      <td>45</td>\n      <td>0</td>\n      <td>117.2</td>\n      <td>...</td>\n      <td>0</td>\n      <td>50</td>\n      <td>299.0</td>\n      <td>78</td>\n      <td>6</td>\n      <td>50</td>\n      <td>0</td>\n      <td>0</td>\n      <td>0</td>\n      <td>1</td>\n    </tr>\n    <tr>\n      <th>211</th>\n      <td>Wilfried_Zaha_133</td>\n      <td>7</td>\n      <td>8</td>\n      <td>404</td>\n      <td>10</td>\n      <td>716.9</td>\n      <td>71</td>\n      <td>31</td>\n      <td>9</td>\n      <td>251.0</td>\n      <td>...</td>\n      <td>0</td>\n      <td>70</td>\n      <td>1125.0</td>\n      <td>136</td>\n      <td>5</td>\n      <td>70</td>\n      <td>0</td>\n      <td>1</td>\n      <td>0</td>\n      <td>0</td>\n    </tr>\n    <tr>\n      <th>212</th>\n      <td>Willian_Borges Da Silva_113</td>\n      <td>8</td>\n      <td>13</td>\n      <td>522</td>\n      <td>9</td>\n      <td>891.5</td>\n      <td>70</td>\n      <td>19</td>\n      <td>6</td>\n      <td>224.5</td>\n      <td>...</td>\n      <td>0</td>\n      <td>70</td>\n      <td>715.0</td>\n      <td>130</td>\n      <td>1</td>\n      <td>75</td>\n      <td>0</td>\n      <td>0</td>\n      <td>1</td>\n      <td>0</td>\n    </tr>\n    <tr>\n      <th>213</th>\n      <td>Will_Hughes_370</td>\n      <td>3</td>\n      <td>5</td>\n      <td>190</td>\n      <td>4</td>\n      <td>267.0</td>\n      <td>46</td>\n      <td>16</td>\n      <td>2</td>\n      <td>64.3</td>\n      <td>...</td>\n      <td>0</td>\n      <td>50</td>\n      <td>136.0</td>\n      <td>53</td>\n      <td>0</td>\n      <td>50</td>\n      <td>0</td>\n      <td>0</td>\n      <td>0</td>\n      <td>1</td>\n    </tr>\n    <tr>\n      <th>214</th>\n      <td>Xherdan_Shaqiri_194</td>\n      <td>9</td>\n      <td>19</td>\n      <td>554</td>\n      <td>6</td>\n      <td>1151.6</td>\n      <td>61</td>\n      <td>58</td>\n      <td>8</td>\n      <td>255.2</td>\n      <td>...</td>\n      <td>0</td>\n      <td>60</td>\n      <td>676.0</td>\n      <td>155</td>\n      <td>5</td>\n      <td>75</td>\n      <td>0</td>\n      <td>0</td>\n      <td>1</td>\n      <td>0</td>\n    </tr>\n  </tbody>\n</table>\n<p>215 rows × 26 columns</p>\n</div>"
     },
     "metadata": {},
     "execution_count": 2
    }
   ],
   "source": [
    "data = pd.read_csv('player_categories.csv')\n",
    "data"
   ]
  },
  {
   "cell_type": "code",
   "execution_count": 3,
   "metadata": {},
   "outputs": [],
   "source": [
    "inputs = data[['assists', 'bonus', 'bps', 'clean_sheets', 'end_cost',\n",
    "       'goals_conceded', 'goals_scored', 'minutes',\n",
    "       'own_goals', 'penalties_missed', 'penalties_saved', 'red_cards',\n",
    "       'saves', 'start_cost', 'total_points',\n",
    "       'yellow_cards', 'cost_18_19', 'ict_index']]\n",
    "targets = data[['cat_1', 'cat_2', 'cat_3', 'cat_4']]\n",
    "\n",
    "scaler = StandardScaler()\n",
    "scaler.fit(inputs)\n",
    "\n",
    "inputs_scaled_all = scaler.transform(inputs)\n",
    "\n",
    "targets_all = targets.to_numpy()\n",
    "\n",
    "shuffled_indices = np.arange(inputs_scaled_all.shape[0])\n",
    "np.random.shuffle(shuffled_indices)\n",
    "\n",
    "shuffled_inputs = inputs_scaled_all[shuffled_indices]\n",
    "shuffled_targets = targets_all[shuffled_indices]"
   ]
  },
  {
   "cell_type": "code",
   "execution_count": 4,
   "metadata": {
    "tags": []
   },
   "outputs": [
    {
     "output_type": "stream",
     "name": "stdout",
     "text": "172\n21\n22\n"
    }
   ],
   "source": [
    "# Count the total number of samples\n",
    "samples_count = shuffled_inputs.shape[0]\n",
    "\n",
    "# Count the samples in each subset, assuming we want 80-10-10 distribution of training, validation, and test.\n",
    "train_samples_count = int(0.8 * samples_count)\n",
    "validation_samples_count = int(0.1 * samples_count)\n",
    "\n",
    "# The 'test' dataset contains all remaining data.\n",
    "test_samples_count = samples_count - train_samples_count - validation_samples_count\n",
    "\n",
    "# Create variables that record the inputs and targets for training\n",
    "# In our shuffled dataset, they are the first \"train_samples_count\" observations\n",
    "train_inputs = shuffled_inputs[:train_samples_count]\n",
    "train_targets = shuffled_targets[:train_samples_count]\n",
    "\n",
    "# Create variables that record the inputs and targets for validation.\n",
    "# They are the next \"validation_samples_count\" observations, folllowing the \"train_samples_count\" we already assigned\n",
    "validation_inputs = shuffled_inputs[train_samples_count:train_samples_count+validation_samples_count]\n",
    "validation_targets = shuffled_targets[train_samples_count:train_samples_count+validation_samples_count]\n",
    "\n",
    "# Create variables that record the inputs and targets for test.\n",
    "# They are everything that is remaining.\n",
    "test_inputs = shuffled_inputs[train_samples_count+validation_samples_count:]\n",
    "test_targets = shuffled_targets[train_samples_count+validation_samples_count:]\n",
    "\n",
    "# We balanced our dataset to be 50-50 (for targets 0 and 1), but the training, validation, and test were \n",
    "# taken from a shuffled dataset. Check if they are balanced, too. Note that each time you rerun this code, \n",
    "# you will get different values, as each time they are shuffled randomly.\n",
    "# Normally you preprocess ONCE, so you need not rerun this code once it is done.\n",
    "# If you rerun this whole sheet, the npzs will be overwritten with your newly preprocessed data.\n",
    "\n",
    "# Print the number of targets that are 1s, the total number of samples, and the proportion for training, validation, and test.\n",
    "print(train_samples_count)\n",
    "print(validation_samples_count)\n",
    "print(test_samples_count)"
   ]
  },
  {
   "cell_type": "code",
   "execution_count": 5,
   "metadata": {},
   "outputs": [],
   "source": [
    "np.savez('player_cat_data_train', inputs=train_inputs, targets=train_targets)\n",
    "np.savez('player_cat_data_validation', inputs=validation_inputs, targets=validation_targets)\n",
    "np.savez('player_cat_data_test', inputs=test_inputs, targets=test_targets)"
   ]
  },
  {
   "cell_type": "markdown",
   "metadata": {},
   "source": [
    "## Data - haven't balanced"
   ]
  },
  {
   "cell_type": "code",
   "execution_count": 6,
   "metadata": {},
   "outputs": [],
   "source": [
    "# create temporary variable npz, stores the three datasets\n",
    "npz = np.load('player_cat_data_train.npz')\n",
    "\n",
    "# extract inputs using keywords\n",
    "# ensure all floats\n",
    "train_inputs, train_targets = npz['inputs'].astype(np.float), npz['targets'].astype(np.int)\n",
    "# targets must be int because of sparse_categorical_crossentropy (we want to be able to smoothly one-hot encode them)\n",
    "\n",
    "# load validation data in temporary variable\n",
    "npz = np.load('player_cat_data_validation.npz')\n",
    "validation_inputs, validation_targets = npz['inputs'].astype(np.float), npz['targets'].astype(np.int)\n",
    "\n",
    "# load test data in the temporary variable\n",
    "npz = np.load('player_cat_data_test.npz')\n",
    "test_inputs, test_targets = npz['inputs'].astype(np.float), npz['targets'].astype(np.int)"
   ]
  },
  {
   "cell_type": "markdown",
   "metadata": {},
   "source": [
    "## Model"
   ]
  },
  {
   "cell_type": "code",
   "execution_count": 7,
   "metadata": {
    "tags": []
   },
   "outputs": [
    {
     "output_type": "stream",
     "name": "stdout",
     "text": "Train on 172 samples, validate on 21 samples\nEpoch 1/100\n172/172 - 2s - loss: 1.6373 - accuracy: 0.1163 - val_loss: 1.7489 - val_accuracy: 0.0476\nEpoch 2/100\n172/172 - 0s - loss: 1.5469 - accuracy: 0.1453 - val_loss: 1.6560 - val_accuracy: 0.0476\nEpoch 3/100\n172/172 - 0s - loss: 1.4676 - accuracy: 0.1744 - val_loss: 1.5696 - val_accuracy: 0.0952\nEpoch 4/100\n172/172 - 0s - loss: 1.3920 - accuracy: 0.2442 - val_loss: 1.4927 - val_accuracy: 0.0952\nEpoch 5/100\n172/172 - 0s - loss: 1.3332 - accuracy: 0.3314 - val_loss: 1.4207 - val_accuracy: 0.1905\nEpoch 6/100\n172/172 - 0s - loss: 1.2738 - accuracy: 0.4477 - val_loss: 1.3549 - val_accuracy: 0.3810\nEpoch 7/100\n172/172 - 0s - loss: 1.2196 - accuracy: 0.5640 - val_loss: 1.2942 - val_accuracy: 0.4286\nEpoch 8/100\n172/172 - 0s - loss: 1.1691 - accuracy: 0.6453 - val_loss: 1.2380 - val_accuracy: 0.6667\nEpoch 9/100\n172/172 - 0s - loss: 1.1230 - accuracy: 0.6919 - val_loss: 1.1847 - val_accuracy: 0.6667\nEpoch 10/100\n172/172 - 0s - loss: 1.0790 - accuracy: 0.7151 - val_loss: 1.1352 - val_accuracy: 0.6667\nEpoch 11/100\n172/172 - 0s - loss: 1.0356 - accuracy: 0.7151 - val_loss: 1.0886 - val_accuracy: 0.7143\nEpoch 12/100\n172/172 - 0s - loss: 0.9979 - accuracy: 0.7035 - val_loss: 1.0439 - val_accuracy: 0.7143\nEpoch 13/100\n172/172 - 0s - loss: 0.9592 - accuracy: 0.7209 - val_loss: 1.0025 - val_accuracy: 0.7143\nEpoch 14/100\n172/172 - 0s - loss: 0.9247 - accuracy: 0.7209 - val_loss: 0.9644 - val_accuracy: 0.7143\nEpoch 15/100\n172/172 - 0s - loss: 0.8925 - accuracy: 0.7209 - val_loss: 0.9278 - val_accuracy: 0.7143\nEpoch 16/100\n172/172 - 0s - loss: 0.8603 - accuracy: 0.7267 - val_loss: 0.8948 - val_accuracy: 0.7143\nEpoch 17/100\n172/172 - 0s - loss: 0.8309 - accuracy: 0.7267 - val_loss: 0.8640 - val_accuracy: 0.7143\nEpoch 18/100\n172/172 - 0s - loss: 0.8030 - accuracy: 0.7267 - val_loss: 0.8362 - val_accuracy: 0.7143\nEpoch 19/100\n172/172 - 0s - loss: 0.7760 - accuracy: 0.7326 - val_loss: 0.8115 - val_accuracy: 0.7143\nEpoch 20/100\n172/172 - 0s - loss: 0.7528 - accuracy: 0.7326 - val_loss: 0.7879 - val_accuracy: 0.7143\nEpoch 21/100\n172/172 - 0s - loss: 0.7304 - accuracy: 0.7500 - val_loss: 0.7670 - val_accuracy: 0.7143\nEpoch 22/100\n172/172 - 0s - loss: 0.7098 - accuracy: 0.7500 - val_loss: 0.7496 - val_accuracy: 0.7143\nEpoch 23/100\n172/172 - 0s - loss: 0.6912 - accuracy: 0.7558 - val_loss: 0.7341 - val_accuracy: 0.7143\nEpoch 24/100\n172/172 - 0s - loss: 0.6754 - accuracy: 0.7558 - val_loss: 0.7197 - val_accuracy: 0.7143\nEpoch 25/100\n172/172 - 0s - loss: 0.6595 - accuracy: 0.7558 - val_loss: 0.7074 - val_accuracy: 0.7143\nEpoch 26/100\n172/172 - 0s - loss: 0.6443 - accuracy: 0.7616 - val_loss: 0.6985 - val_accuracy: 0.7143\nEpoch 27/100\n172/172 - 0s - loss: 0.6312 - accuracy: 0.7616 - val_loss: 0.6901 - val_accuracy: 0.7143\nEpoch 28/100\n172/172 - 0s - loss: 0.6183 - accuracy: 0.7558 - val_loss: 0.6804 - val_accuracy: 0.7143\nEpoch 29/100\n172/172 - 0s - loss: 0.6069 - accuracy: 0.7558 - val_loss: 0.6717 - val_accuracy: 0.7143\nEpoch 30/100\n172/172 - 0s - loss: 0.5955 - accuracy: 0.7558 - val_loss: 0.6642 - val_accuracy: 0.7143\nEpoch 31/100\n172/172 - 0s - loss: 0.5848 - accuracy: 0.7558 - val_loss: 0.6581 - val_accuracy: 0.7143\nEpoch 32/100\n172/172 - 0s - loss: 0.5755 - accuracy: 0.7558 - val_loss: 0.6492 - val_accuracy: 0.7143\nEpoch 33/100\n172/172 - 0s - loss: 0.5660 - accuracy: 0.7616 - val_loss: 0.6404 - val_accuracy: 0.7143\nEpoch 34/100\n172/172 - 0s - loss: 0.5573 - accuracy: 0.7616 - val_loss: 0.6320 - val_accuracy: 0.7143\nEpoch 35/100\n172/172 - 0s - loss: 0.5491 - accuracy: 0.7733 - val_loss: 0.6239 - val_accuracy: 0.7619\nEpoch 36/100\n172/172 - 0s - loss: 0.5412 - accuracy: 0.7733 - val_loss: 0.6171 - val_accuracy: 0.7619\nEpoch 37/100\n172/172 - 0s - loss: 0.5338 - accuracy: 0.7733 - val_loss: 0.6122 - val_accuracy: 0.7619\nEpoch 38/100\n172/172 - 0s - loss: 0.5269 - accuracy: 0.7733 - val_loss: 0.6091 - val_accuracy: 0.7619\nEpoch 39/100\n172/172 - 0s - loss: 0.5200 - accuracy: 0.7733 - val_loss: 0.6046 - val_accuracy: 0.7619\nEpoch 40/100\n172/172 - 0s - loss: 0.5138 - accuracy: 0.7733 - val_loss: 0.6006 - val_accuracy: 0.7619\nEpoch 41/100\n172/172 - 0s - loss: 0.5078 - accuracy: 0.7849 - val_loss: 0.5973 - val_accuracy: 0.7619\nEpoch 42/100\n172/172 - 0s - loss: 0.5023 - accuracy: 0.7849 - val_loss: 0.5919 - val_accuracy: 0.7619\nEpoch 43/100\n172/172 - 0s - loss: 0.4968 - accuracy: 0.7907 - val_loss: 0.5894 - val_accuracy: 0.7619\nEpoch 44/100\n172/172 - 0s - loss: 0.4912 - accuracy: 0.7907 - val_loss: 0.5867 - val_accuracy: 0.7619\nEpoch 45/100\n172/172 - 0s - loss: 0.4865 - accuracy: 0.7907 - val_loss: 0.5838 - val_accuracy: 0.7619\nEpoch 46/100\n172/172 - 0s - loss: 0.4814 - accuracy: 0.7907 - val_loss: 0.5836 - val_accuracy: 0.7619\nEpoch 47/100\n172/172 - 0s - loss: 0.4766 - accuracy: 0.7907 - val_loss: 0.5861 - val_accuracy: 0.7619\nEpoch 48/100\n172/172 - 0s - loss: 0.4722 - accuracy: 0.7907 - val_loss: 0.5866 - val_accuracy: 0.7619\n"
    },
    {
     "output_type": "execute_result",
     "data": {
      "text/plain": "<tensorflow.python.keras.callbacks.History at 0x20195d553c8>"
     },
     "metadata": {},
     "execution_count": 7
    }
   ],
   "source": [
    "# set parameters\n",
    "input_size = train_inputs.shape[1]\n",
    "output_size = train_targets.shape[1]\n",
    "hidden_layer_size = 50\n",
    "    \n",
    "# define model\n",
    "model = tf.keras.Sequential([\n",
    "    # tf.keras.layers.Dense is basically implementing: output = activation(dot(input, weight) + bias)\n",
    "    # it takes several arguments, but the most important ones for us are the hidden_layer_size and the activation function\n",
    "    tf.keras.layers.Dense(hidden_layer_size, activation='relu'), # 1st hidden layer\n",
    "    tf.keras.layers.Dense(hidden_layer_size, activation='relu'), # 2nd hidden layer\n",
    "    #tf.keras.layers.Dense(hidden_layer_size, activation='relu'), # 3rd hidden layer\n",
    "    #tf.keras.layers.Dense(hidden_layer_size, activation='relu'), # 4th hidden layer\n",
    "    # the final layer is no different, we just make sure to activate it with softmax\n",
    "    tf.keras.layers.Dense(output_size, activation='softmax') # output layer\n",
    "])\n",
    "\n",
    "\n",
    "### Choose the optimizer and the loss function\n",
    "\n",
    "# we define the optimizer we'd like to use, \n",
    "# the loss function, \n",
    "# and the metrics we are interested in obtaining at each iteration\n",
    "# sparse for label vectors e.g. 0,1,2; not one hot encoded targets\n",
    "model.compile(optimizer='adam', loss='categorical_crossentropy', metrics=['accuracy']) \n",
    "\n",
    "### Training\n",
    "# That's where we train the model we have built.\n",
    "\n",
    "# set the batch size\n",
    "batch_size = 100\n",
    "\n",
    "# set a maximum number of training epochs\n",
    "max_epochs = 100\n",
    "\n",
    "# set an early stopping mechanism\n",
    "# let's set patience=2, to be a bit tolerant against random validation loss increases\n",
    "early_stopping = tf.keras.callbacks.EarlyStopping(patience=2)\n",
    "\n",
    "# fit the model\n",
    "# note that this time the train, validation and test data are not iterable\n",
    "model.fit(train_inputs, # train inputs\n",
    "          train_targets, # train targets\n",
    "          batch_size=batch_size, # batch size\n",
    "          epochs=max_epochs, # epochs that we will train for (assuming early stopping doesn't kick in)\n",
    "          # callbacks are functions called by a task when a task is completed\n",
    "          # task here is to check if val_loss is increasing\n",
    "          callbacks=[early_stopping], # early stopping\n",
    "          validation_data=(validation_inputs, validation_targets), # validation data\n",
    "          verbose = 2 # making sure we get enough information about the training process\n",
    "          )"
   ]
  },
  {
   "cell_type": "markdown",
   "metadata": {},
   "source": [
    "## Analyse model"
   ]
  },
  {
   "cell_type": "code",
   "execution_count": 8,
   "metadata": {},
   "outputs": [
    {
     "output_type": "execute_result",
     "data": {
      "text/plain": "    prob_1 prob_2 prob_3 prob_4 cat_1 cat_2 cat_3 cat_4\n0        0      0      1      0     0     0     1     0\n1        0      0      0      1     0     0     0     1\n2        0      0      0      0     0     1     0     0\n3        0      0      0      1     0     0     0     1\n4        0      0      0      0     0     0     1     0\n..     ...    ...    ...    ...   ...   ...   ...   ...\n167      0      0      0      1     0     0     0     1\n168      1      0      0      0     1     0     0     0\n169      0      0      0      1     0     0     0     1\n170      0      1      0      0     0     1     0     0\n171      0      0      0      1     0     0     0     1\n\n[172 rows x 8 columns]",
      "text/html": "<div>\n<style scoped>\n    .dataframe tbody tr th:only-of-type {\n        vertical-align: middle;\n    }\n\n    .dataframe tbody tr th {\n        vertical-align: top;\n    }\n\n    .dataframe thead tr th {\n        text-align: left;\n    }\n</style>\n<table border=\"1\" class=\"dataframe\">\n  <thead>\n    <tr>\n      <th></th>\n      <th>prob_1</th>\n      <th>prob_2</th>\n      <th>prob_3</th>\n      <th>prob_4</th>\n      <th>cat_1</th>\n      <th>cat_2</th>\n      <th>cat_3</th>\n      <th>cat_4</th>\n    </tr>\n  </thead>\n  <tbody>\n    <tr>\n      <th>0</th>\n      <td>0</td>\n      <td>0</td>\n      <td>1</td>\n      <td>0</td>\n      <td>0</td>\n      <td>0</td>\n      <td>1</td>\n      <td>0</td>\n    </tr>\n    <tr>\n      <th>1</th>\n      <td>0</td>\n      <td>0</td>\n      <td>0</td>\n      <td>1</td>\n      <td>0</td>\n      <td>0</td>\n      <td>0</td>\n      <td>1</td>\n    </tr>\n    <tr>\n      <th>2</th>\n      <td>0</td>\n      <td>0</td>\n      <td>0</td>\n      <td>0</td>\n      <td>0</td>\n      <td>1</td>\n      <td>0</td>\n      <td>0</td>\n    </tr>\n    <tr>\n      <th>3</th>\n      <td>0</td>\n      <td>0</td>\n      <td>0</td>\n      <td>1</td>\n      <td>0</td>\n      <td>0</td>\n      <td>0</td>\n      <td>1</td>\n    </tr>\n    <tr>\n      <th>4</th>\n      <td>0</td>\n      <td>0</td>\n      <td>0</td>\n      <td>0</td>\n      <td>0</td>\n      <td>0</td>\n      <td>1</td>\n      <td>0</td>\n    </tr>\n    <tr>\n      <th>...</th>\n      <td>...</td>\n      <td>...</td>\n      <td>...</td>\n      <td>...</td>\n      <td>...</td>\n      <td>...</td>\n      <td>...</td>\n      <td>...</td>\n    </tr>\n    <tr>\n      <th>167</th>\n      <td>0</td>\n      <td>0</td>\n      <td>0</td>\n      <td>1</td>\n      <td>0</td>\n      <td>0</td>\n      <td>0</td>\n      <td>1</td>\n    </tr>\n    <tr>\n      <th>168</th>\n      <td>1</td>\n      <td>0</td>\n      <td>0</td>\n      <td>0</td>\n      <td>1</td>\n      <td>0</td>\n      <td>0</td>\n      <td>0</td>\n    </tr>\n    <tr>\n      <th>169</th>\n      <td>0</td>\n      <td>0</td>\n      <td>0</td>\n      <td>1</td>\n      <td>0</td>\n      <td>0</td>\n      <td>0</td>\n      <td>1</td>\n    </tr>\n    <tr>\n      <th>170</th>\n      <td>0</td>\n      <td>1</td>\n      <td>0</td>\n      <td>0</td>\n      <td>0</td>\n      <td>1</td>\n      <td>0</td>\n      <td>0</td>\n    </tr>\n    <tr>\n      <th>171</th>\n      <td>0</td>\n      <td>0</td>\n      <td>0</td>\n      <td>1</td>\n      <td>0</td>\n      <td>0</td>\n      <td>0</td>\n      <td>1</td>\n    </tr>\n  </tbody>\n</table>\n<p>172 rows × 8 columns</p>\n</div>"
     },
     "metadata": {},
     "execution_count": 8
    }
   ],
   "source": [
    "y_hat = pd.DataFrame(np.squeeze(model.predict_on_batch(train_inputs)).round().astype(int)) # problem, can't index\n",
    "results = pd.concat([y_hat, pd.DataFrame(train_targets)], axis=1)\n",
    "results.columns = [['prob_1', 'prob_2', 'prob_3', 'prob_4', 'cat_1', 'cat_2', 'cat_3', 'cat_4']]\n",
    "results"
   ]
  },
  {
   "cell_type": "code",
   "execution_count": 9,
   "metadata": {
    "tags": []
   },
   "outputs": [
    {
     "output_type": "stream",
     "name": "stdout",
     "text": "0.9941860465116279 0.8313953488372093 0.9651162790697675 0.8604651162790697\n"
    }
   ],
   "source": [
    "print(np.sum(results.iloc[:,0] == results.iloc[:,4])/len(results), \n",
    "      np.sum(results.iloc[:,1] == results.iloc[:,5])/len(results), \n",
    "      np.sum(results.iloc[:,2] == results.iloc[:,6])/len(results), \n",
    "      np.sum(results.iloc[:,3] == results.iloc[:,7])/len(results)\n",
    "     )\n"
   ]
  },
  {
   "cell_type": "code",
   "execution_count": 10,
   "metadata": {},
   "outputs": [
    {
     "output_type": "execute_result",
     "data": {
      "text/plain": "    prob_1 prob_2 prob_3 prob_4 cat_1 cat_2 cat_3 cat_4\n0        0      0      3      0     0     0     1     0\n1        0      0      0      4     0     0     0     1\n2        0      0      0      0     0     1     0     0\n3        0      0      0      4     0     0     0     1\n4        0      0      0      0     0     0     1     0\n..     ...    ...    ...    ...   ...   ...   ...   ...\n167      0      0      0      4     0     0     0     1\n168      1      0      0      0     1     0     0     0\n169      0      0      0      4     0     0     0     1\n170      0      2      0      0     0     1     0     0\n171      0      0      0      4     0     0     0     1\n\n[172 rows x 8 columns]",
      "text/html": "<div>\n<style scoped>\n    .dataframe tbody tr th:only-of-type {\n        vertical-align: middle;\n    }\n\n    .dataframe tbody tr th {\n        vertical-align: top;\n    }\n\n    .dataframe thead tr th {\n        text-align: left;\n    }\n</style>\n<table border=\"1\" class=\"dataframe\">\n  <thead>\n    <tr>\n      <th></th>\n      <th>prob_1</th>\n      <th>prob_2</th>\n      <th>prob_3</th>\n      <th>prob_4</th>\n      <th>cat_1</th>\n      <th>cat_2</th>\n      <th>cat_3</th>\n      <th>cat_4</th>\n    </tr>\n  </thead>\n  <tbody>\n    <tr>\n      <th>0</th>\n      <td>0</td>\n      <td>0</td>\n      <td>3</td>\n      <td>0</td>\n      <td>0</td>\n      <td>0</td>\n      <td>1</td>\n      <td>0</td>\n    </tr>\n    <tr>\n      <th>1</th>\n      <td>0</td>\n      <td>0</td>\n      <td>0</td>\n      <td>4</td>\n      <td>0</td>\n      <td>0</td>\n      <td>0</td>\n      <td>1</td>\n    </tr>\n    <tr>\n      <th>2</th>\n      <td>0</td>\n      <td>0</td>\n      <td>0</td>\n      <td>0</td>\n      <td>0</td>\n      <td>1</td>\n      <td>0</td>\n      <td>0</td>\n    </tr>\n    <tr>\n      <th>3</th>\n      <td>0</td>\n      <td>0</td>\n      <td>0</td>\n      <td>4</td>\n      <td>0</td>\n      <td>0</td>\n      <td>0</td>\n      <td>1</td>\n    </tr>\n    <tr>\n      <th>4</th>\n      <td>0</td>\n      <td>0</td>\n      <td>0</td>\n      <td>0</td>\n      <td>0</td>\n      <td>0</td>\n      <td>1</td>\n      <td>0</td>\n    </tr>\n    <tr>\n      <th>...</th>\n      <td>...</td>\n      <td>...</td>\n      <td>...</td>\n      <td>...</td>\n      <td>...</td>\n      <td>...</td>\n      <td>...</td>\n      <td>...</td>\n    </tr>\n    <tr>\n      <th>167</th>\n      <td>0</td>\n      <td>0</td>\n      <td>0</td>\n      <td>4</td>\n      <td>0</td>\n      <td>0</td>\n      <td>0</td>\n      <td>1</td>\n    </tr>\n    <tr>\n      <th>168</th>\n      <td>1</td>\n      <td>0</td>\n      <td>0</td>\n      <td>0</td>\n      <td>1</td>\n      <td>0</td>\n      <td>0</td>\n      <td>0</td>\n    </tr>\n    <tr>\n      <th>169</th>\n      <td>0</td>\n      <td>0</td>\n      <td>0</td>\n      <td>4</td>\n      <td>0</td>\n      <td>0</td>\n      <td>0</td>\n      <td>1</td>\n    </tr>\n    <tr>\n      <th>170</th>\n      <td>0</td>\n      <td>2</td>\n      <td>0</td>\n      <td>0</td>\n      <td>0</td>\n      <td>1</td>\n      <td>0</td>\n      <td>0</td>\n    </tr>\n    <tr>\n      <th>171</th>\n      <td>0</td>\n      <td>0</td>\n      <td>0</td>\n      <td>4</td>\n      <td>0</td>\n      <td>0</td>\n      <td>0</td>\n      <td>1</td>\n    </tr>\n  </tbody>\n</table>\n<p>172 rows × 8 columns</p>\n</div>"
     },
     "metadata": {},
     "execution_count": 10
    }
   ],
   "source": [
    "results.iloc[:,1] = results.iloc[:,1].map({1:2, 0:0})\n",
    "results.iloc[:,2] = results.iloc[:,2].map({1:3, 0:0})\n",
    "results.iloc[:,3] = results.iloc[:,3].map({1:4, 0:0})\n",
    "results"
   ]
  },
  {
   "cell_type": "code",
   "execution_count": 11,
   "metadata": {},
   "outputs": [
    {
     "output_type": "execute_result",
     "data": {
      "text/plain": "    prob_1 prob_2 prob_3 prob_4 cat_1 cat_2 cat_3 cat_4 categories\n0        0      0      3      0     0     0     1     0  (prob_3,)\n1        0      0      0      4     0     0     0     1  (prob_4,)\n2        0      0      0      0     0     1     0     0  (prob_1,)\n3        0      0      0      4     0     0     0     1  (prob_4,)\n4        0      0      0      0     0     0     1     0  (prob_1,)\n..     ...    ...    ...    ...   ...   ...   ...   ...        ...\n167      0      0      0      4     0     0     0     1  (prob_4,)\n168      1      0      0      0     1     0     0     0  (prob_1,)\n169      0      0      0      4     0     0     0     1  (prob_4,)\n170      0      2      0      0     0     1     0     0  (prob_2,)\n171      0      0      0      4     0     0     0     1  (prob_4,)\n\n[172 rows x 9 columns]",
      "text/html": "<div>\n<style scoped>\n    .dataframe tbody tr th:only-of-type {\n        vertical-align: middle;\n    }\n\n    .dataframe tbody tr th {\n        vertical-align: top;\n    }\n\n    .dataframe thead tr th {\n        text-align: left;\n    }\n</style>\n<table border=\"1\" class=\"dataframe\">\n  <thead>\n    <tr>\n      <th></th>\n      <th>prob_1</th>\n      <th>prob_2</th>\n      <th>prob_3</th>\n      <th>prob_4</th>\n      <th>cat_1</th>\n      <th>cat_2</th>\n      <th>cat_3</th>\n      <th>cat_4</th>\n      <th>categories</th>\n    </tr>\n  </thead>\n  <tbody>\n    <tr>\n      <th>0</th>\n      <td>0</td>\n      <td>0</td>\n      <td>3</td>\n      <td>0</td>\n      <td>0</td>\n      <td>0</td>\n      <td>1</td>\n      <td>0</td>\n      <td>(prob_3,)</td>\n    </tr>\n    <tr>\n      <th>1</th>\n      <td>0</td>\n      <td>0</td>\n      <td>0</td>\n      <td>4</td>\n      <td>0</td>\n      <td>0</td>\n      <td>0</td>\n      <td>1</td>\n      <td>(prob_4,)</td>\n    </tr>\n    <tr>\n      <th>2</th>\n      <td>0</td>\n      <td>0</td>\n      <td>0</td>\n      <td>0</td>\n      <td>0</td>\n      <td>1</td>\n      <td>0</td>\n      <td>0</td>\n      <td>(prob_1,)</td>\n    </tr>\n    <tr>\n      <th>3</th>\n      <td>0</td>\n      <td>0</td>\n      <td>0</td>\n      <td>4</td>\n      <td>0</td>\n      <td>0</td>\n      <td>0</td>\n      <td>1</td>\n      <td>(prob_4,)</td>\n    </tr>\n    <tr>\n      <th>4</th>\n      <td>0</td>\n      <td>0</td>\n      <td>0</td>\n      <td>0</td>\n      <td>0</td>\n      <td>0</td>\n      <td>1</td>\n      <td>0</td>\n      <td>(prob_1,)</td>\n    </tr>\n    <tr>\n      <th>...</th>\n      <td>...</td>\n      <td>...</td>\n      <td>...</td>\n      <td>...</td>\n      <td>...</td>\n      <td>...</td>\n      <td>...</td>\n      <td>...</td>\n      <td>...</td>\n    </tr>\n    <tr>\n      <th>167</th>\n      <td>0</td>\n      <td>0</td>\n      <td>0</td>\n      <td>4</td>\n      <td>0</td>\n      <td>0</td>\n      <td>0</td>\n      <td>1</td>\n      <td>(prob_4,)</td>\n    </tr>\n    <tr>\n      <th>168</th>\n      <td>1</td>\n      <td>0</td>\n      <td>0</td>\n      <td>0</td>\n      <td>1</td>\n      <td>0</td>\n      <td>0</td>\n      <td>0</td>\n      <td>(prob_1,)</td>\n    </tr>\n    <tr>\n      <th>169</th>\n      <td>0</td>\n      <td>0</td>\n      <td>0</td>\n      <td>4</td>\n      <td>0</td>\n      <td>0</td>\n      <td>0</td>\n      <td>1</td>\n      <td>(prob_4,)</td>\n    </tr>\n    <tr>\n      <th>170</th>\n      <td>0</td>\n      <td>2</td>\n      <td>0</td>\n      <td>0</td>\n      <td>0</td>\n      <td>1</td>\n      <td>0</td>\n      <td>0</td>\n      <td>(prob_2,)</td>\n    </tr>\n    <tr>\n      <th>171</th>\n      <td>0</td>\n      <td>0</td>\n      <td>0</td>\n      <td>4</td>\n      <td>0</td>\n      <td>0</td>\n      <td>0</td>\n      <td>1</td>\n      <td>(prob_4,)</td>\n    </tr>\n  </tbody>\n</table>\n<p>172 rows × 9 columns</p>\n</div>"
     },
     "metadata": {},
     "execution_count": 11
    }
   ],
   "source": [
    "results['categories'] = results.iloc[:,0:4].idxmax(axis=1)\n",
    "results"
   ]
  },
  {
   "cell_type": "code",
   "execution_count": 12,
   "metadata": {},
   "outputs": [
    {
     "output_type": "execute_result",
     "data": {
      "text/plain": "    prob_1 prob_2 prob_3 prob_4 cat_1 cat_2 cat_3 cat_4 categories\n0        0      0      3      0     0     0     1     0        NaN\n1        0      0      0      4     0     0     0     1        NaN\n2        0      0      0      0     0     1     0     0        NaN\n3        0      0      0      4     0     0     0     1        NaN\n4        0      0      0      0     0     0     1     0        NaN\n..     ...    ...    ...    ...   ...   ...   ...   ...        ...\n167      0      0      0      4     0     0     0     1        NaN\n168      1      0      0      0     1     0     0     0        NaN\n169      0      0      0      4     0     0     0     1        NaN\n170      0      2      0      0     0     1     0     0        NaN\n171      0      0      0      4     0     0     0     1        NaN\n\n[172 rows x 9 columns]",
      "text/html": "<div>\n<style scoped>\n    .dataframe tbody tr th:only-of-type {\n        vertical-align: middle;\n    }\n\n    .dataframe tbody tr th {\n        vertical-align: top;\n    }\n\n    .dataframe thead tr th {\n        text-align: left;\n    }\n</style>\n<table border=\"1\" class=\"dataframe\">\n  <thead>\n    <tr>\n      <th></th>\n      <th>prob_1</th>\n      <th>prob_2</th>\n      <th>prob_3</th>\n      <th>prob_4</th>\n      <th>cat_1</th>\n      <th>cat_2</th>\n      <th>cat_3</th>\n      <th>cat_4</th>\n      <th>categories</th>\n    </tr>\n  </thead>\n  <tbody>\n    <tr>\n      <th>0</th>\n      <td>0</td>\n      <td>0</td>\n      <td>3</td>\n      <td>0</td>\n      <td>0</td>\n      <td>0</td>\n      <td>1</td>\n      <td>0</td>\n      <td>NaN</td>\n    </tr>\n    <tr>\n      <th>1</th>\n      <td>0</td>\n      <td>0</td>\n      <td>0</td>\n      <td>4</td>\n      <td>0</td>\n      <td>0</td>\n      <td>0</td>\n      <td>1</td>\n      <td>NaN</td>\n    </tr>\n    <tr>\n      <th>2</th>\n      <td>0</td>\n      <td>0</td>\n      <td>0</td>\n      <td>0</td>\n      <td>0</td>\n      <td>1</td>\n      <td>0</td>\n      <td>0</td>\n      <td>NaN</td>\n    </tr>\n    <tr>\n      <th>3</th>\n      <td>0</td>\n      <td>0</td>\n      <td>0</td>\n      <td>4</td>\n      <td>0</td>\n      <td>0</td>\n      <td>0</td>\n      <td>1</td>\n      <td>NaN</td>\n    </tr>\n    <tr>\n      <th>4</th>\n      <td>0</td>\n      <td>0</td>\n      <td>0</td>\n      <td>0</td>\n      <td>0</td>\n      <td>0</td>\n      <td>1</td>\n      <td>0</td>\n      <td>NaN</td>\n    </tr>\n    <tr>\n      <th>...</th>\n      <td>...</td>\n      <td>...</td>\n      <td>...</td>\n      <td>...</td>\n      <td>...</td>\n      <td>...</td>\n      <td>...</td>\n      <td>...</td>\n      <td>...</td>\n    </tr>\n    <tr>\n      <th>167</th>\n      <td>0</td>\n      <td>0</td>\n      <td>0</td>\n      <td>4</td>\n      <td>0</td>\n      <td>0</td>\n      <td>0</td>\n      <td>1</td>\n      <td>NaN</td>\n    </tr>\n    <tr>\n      <th>168</th>\n      <td>1</td>\n      <td>0</td>\n      <td>0</td>\n      <td>0</td>\n      <td>1</td>\n      <td>0</td>\n      <td>0</td>\n      <td>0</td>\n      <td>NaN</td>\n    </tr>\n    <tr>\n      <th>169</th>\n      <td>0</td>\n      <td>0</td>\n      <td>0</td>\n      <td>4</td>\n      <td>0</td>\n      <td>0</td>\n      <td>0</td>\n      <td>1</td>\n      <td>NaN</td>\n    </tr>\n    <tr>\n      <th>170</th>\n      <td>0</td>\n      <td>2</td>\n      <td>0</td>\n      <td>0</td>\n      <td>0</td>\n      <td>1</td>\n      <td>0</td>\n      <td>0</td>\n      <td>NaN</td>\n    </tr>\n    <tr>\n      <th>171</th>\n      <td>0</td>\n      <td>0</td>\n      <td>0</td>\n      <td>4</td>\n      <td>0</td>\n      <td>0</td>\n      <td>0</td>\n      <td>1</td>\n      <td>NaN</td>\n    </tr>\n  </tbody>\n</table>\n<p>172 rows × 9 columns</p>\n</div>"
     },
     "metadata": {},
     "execution_count": 12
    }
   ],
   "source": [
    "results.iloc[:,8] = results.iloc[:,8].map({'(prob_1,)':1, '(prob_2,)':2, '(prob_3,)':3, '(prob_4,)':4,})\n",
    "results"
   ]
  },
  {
   "cell_type": "code",
   "execution_count": 53,
   "metadata": {},
   "outputs": [
    {
     "ename": "TypeError",
     "evalue": "only integer scalar arrays can be converted to a scalar index",
     "output_type": "error",
     "traceback": [
      "\u001b[1;31m---------------------------------------------------------------------------\u001b[0m",
      "\u001b[1;31mTypeError\u001b[0m                                 Traceback (most recent call last)",
      "\u001b[1;32m<ipython-input-53-daf2c70de116>\u001b[0m in \u001b[0;36m<module>\u001b[1;34m\u001b[0m\n\u001b[1;32m----> 1\u001b[1;33m \u001b[0mresults\u001b[0m\u001b[1;33m[\u001b[0m\u001b[1;34m'prob_1'\u001b[0m\u001b[1;33m]\u001b[0m \u001b[1;33m==\u001b[0m \u001b[0mresults\u001b[0m\u001b[1;33m[\u001b[0m\u001b[1;34m'cat_1'\u001b[0m\u001b[1;33m]\u001b[0m\u001b[1;33m\u001b[0m\u001b[1;33m\u001b[0m\u001b[0m\n\u001b[0m",
      "\u001b[1;32m~\\anaconda3\\envs\\py3-TF2.0\\lib\\site-packages\\pandas\\core\\frame.py\u001b[0m in \u001b[0;36m__getitem__\u001b[1;34m(self, key)\u001b[0m\n\u001b[0;32m   2774\u001b[0m                 \u001b[1;32mif\u001b[0m \u001b[0mself\u001b[0m\u001b[1;33m.\u001b[0m\u001b[0mcolumns\u001b[0m\u001b[1;33m.\u001b[0m\u001b[0mnlevels\u001b[0m \u001b[1;33m>\u001b[0m \u001b[1;36m1\u001b[0m\u001b[1;33m:\u001b[0m\u001b[1;33m\u001b[0m\u001b[1;33m\u001b[0m\u001b[0m\n\u001b[0;32m   2775\u001b[0m                     \u001b[1;32mreturn\u001b[0m \u001b[0mself\u001b[0m\u001b[1;33m.\u001b[0m\u001b[0m_getitem_multilevel\u001b[0m\u001b[1;33m(\u001b[0m\u001b[0mkey\u001b[0m\u001b[1;33m)\u001b[0m\u001b[1;33m\u001b[0m\u001b[1;33m\u001b[0m\u001b[0m\n\u001b[1;32m-> 2776\u001b[1;33m                 \u001b[1;32mreturn\u001b[0m \u001b[0mself\u001b[0m\u001b[1;33m.\u001b[0m\u001b[0m_get_item_cache\u001b[0m\u001b[1;33m(\u001b[0m\u001b[0mkey\u001b[0m\u001b[1;33m)\u001b[0m\u001b[1;33m\u001b[0m\u001b[1;33m\u001b[0m\u001b[0m\n\u001b[0m\u001b[0;32m   2777\u001b[0m \u001b[1;33m\u001b[0m\u001b[0m\n\u001b[0;32m   2778\u001b[0m         \u001b[1;31m# Do we have a slicer (on rows)?\u001b[0m\u001b[1;33m\u001b[0m\u001b[1;33m\u001b[0m\u001b[1;33m\u001b[0m\u001b[0m\n",
      "\u001b[1;32m~\\anaconda3\\envs\\py3-TF2.0\\lib\\site-packages\\pandas\\core\\generic.py\u001b[0m in \u001b[0;36m_get_item_cache\u001b[1;34m(self, item)\u001b[0m\n\u001b[0;32m   3584\u001b[0m         \u001b[0mres\u001b[0m \u001b[1;33m=\u001b[0m \u001b[0mcache\u001b[0m\u001b[1;33m.\u001b[0m\u001b[0mget\u001b[0m\u001b[1;33m(\u001b[0m\u001b[0mitem\u001b[0m\u001b[1;33m)\u001b[0m\u001b[1;33m\u001b[0m\u001b[1;33m\u001b[0m\u001b[0m\n\u001b[0;32m   3585\u001b[0m         \u001b[1;32mif\u001b[0m \u001b[0mres\u001b[0m \u001b[1;32mis\u001b[0m \u001b[1;32mNone\u001b[0m\u001b[1;33m:\u001b[0m\u001b[1;33m\u001b[0m\u001b[1;33m\u001b[0m\u001b[0m\n\u001b[1;32m-> 3586\u001b[1;33m             \u001b[0mvalues\u001b[0m \u001b[1;33m=\u001b[0m \u001b[0mself\u001b[0m\u001b[1;33m.\u001b[0m\u001b[0m_data\u001b[0m\u001b[1;33m.\u001b[0m\u001b[0mget\u001b[0m\u001b[1;33m(\u001b[0m\u001b[0mitem\u001b[0m\u001b[1;33m)\u001b[0m\u001b[1;33m\u001b[0m\u001b[1;33m\u001b[0m\u001b[0m\n\u001b[0m\u001b[0;32m   3587\u001b[0m             \u001b[0mres\u001b[0m \u001b[1;33m=\u001b[0m \u001b[0mself\u001b[0m\u001b[1;33m.\u001b[0m\u001b[0m_box_item_values\u001b[0m\u001b[1;33m(\u001b[0m\u001b[0mitem\u001b[0m\u001b[1;33m,\u001b[0m \u001b[0mvalues\u001b[0m\u001b[1;33m)\u001b[0m\u001b[1;33m\u001b[0m\u001b[1;33m\u001b[0m\u001b[0m\n\u001b[0;32m   3588\u001b[0m             \u001b[0mcache\u001b[0m\u001b[1;33m[\u001b[0m\u001b[0mitem\u001b[0m\u001b[1;33m]\u001b[0m \u001b[1;33m=\u001b[0m \u001b[0mres\u001b[0m\u001b[1;33m\u001b[0m\u001b[1;33m\u001b[0m\u001b[0m\n",
      "\u001b[1;32m~\\anaconda3\\envs\\py3-TF2.0\\lib\\site-packages\\pandas\\core\\internals\\managers.py\u001b[0m in \u001b[0;36mget\u001b[1;34m(self, item)\u001b[0m\n\u001b[0;32m    966\u001b[0m                         \u001b[1;32mraise\u001b[0m \u001b[0mValueError\u001b[0m\u001b[1;33m(\u001b[0m\u001b[1;34m\"cannot label index with a null key\"\u001b[0m\u001b[1;33m)\u001b[0m\u001b[1;33m\u001b[0m\u001b[1;33m\u001b[0m\u001b[0m\n\u001b[0;32m    967\u001b[0m \u001b[1;33m\u001b[0m\u001b[0m\n\u001b[1;32m--> 968\u001b[1;33m             \u001b[1;32mreturn\u001b[0m \u001b[0mself\u001b[0m\u001b[1;33m.\u001b[0m\u001b[0miget\u001b[0m\u001b[1;33m(\u001b[0m\u001b[0mloc\u001b[0m\u001b[1;33m)\u001b[0m\u001b[1;33m\u001b[0m\u001b[1;33m\u001b[0m\u001b[0m\n\u001b[0m\u001b[0;32m    969\u001b[0m         \u001b[1;32melse\u001b[0m\u001b[1;33m:\u001b[0m\u001b[1;33m\u001b[0m\u001b[1;33m\u001b[0m\u001b[0m\n\u001b[0;32m    970\u001b[0m \u001b[1;33m\u001b[0m\u001b[0m\n",
      "\u001b[1;32m~\\anaconda3\\envs\\py3-TF2.0\\lib\\site-packages\\pandas\\core\\internals\\managers.py\u001b[0m in \u001b[0;36miget\u001b[1;34m(self, i)\u001b[0m\n\u001b[0;32m    983\u001b[0m         \u001b[0mOtherwise\u001b[0m \u001b[1;32mreturn\u001b[0m \u001b[1;32mas\u001b[0m \u001b[0ma\u001b[0m \u001b[0mndarray\u001b[0m\u001b[1;33m\u001b[0m\u001b[1;33m\u001b[0m\u001b[0m\n\u001b[0;32m    984\u001b[0m         \"\"\"\n\u001b[1;32m--> 985\u001b[1;33m         \u001b[0mblock\u001b[0m \u001b[1;33m=\u001b[0m \u001b[0mself\u001b[0m\u001b[1;33m.\u001b[0m\u001b[0mblocks\u001b[0m\u001b[1;33m[\u001b[0m\u001b[0mself\u001b[0m\u001b[1;33m.\u001b[0m\u001b[0m_blknos\u001b[0m\u001b[1;33m[\u001b[0m\u001b[0mi\u001b[0m\u001b[1;33m]\u001b[0m\u001b[1;33m]\u001b[0m\u001b[1;33m\u001b[0m\u001b[1;33m\u001b[0m\u001b[0m\n\u001b[0m\u001b[0;32m    986\u001b[0m         \u001b[0mvalues\u001b[0m \u001b[1;33m=\u001b[0m \u001b[0mblock\u001b[0m\u001b[1;33m.\u001b[0m\u001b[0miget\u001b[0m\u001b[1;33m(\u001b[0m\u001b[0mself\u001b[0m\u001b[1;33m.\u001b[0m\u001b[0m_blklocs\u001b[0m\u001b[1;33m[\u001b[0m\u001b[0mi\u001b[0m\u001b[1;33m]\u001b[0m\u001b[1;33m)\u001b[0m\u001b[1;33m\u001b[0m\u001b[1;33m\u001b[0m\u001b[0m\n\u001b[0;32m    987\u001b[0m \u001b[1;33m\u001b[0m\u001b[0m\n",
      "\u001b[1;31mTypeError\u001b[0m: only integer scalar arrays can be converted to a scalar index"
     ]
    }
   ],
   "source": [
    "#TypeError: only integer scalar arrays can be converted to a scalar index\n",
    "#results['prob_1'] == results['cat_1']"
   ]
  },
  {
   "cell_type": "markdown",
   "metadata": {},
   "source": [
    "## Test model"
   ]
  },
  {
   "cell_type": "code",
   "execution_count": null,
   "metadata": {},
   "outputs": [],
   "source": [
    "test_loss, test_accuracy = model.evaluate(test_data)"
   ]
  },
  {
   "cell_type": "code",
   "execution_count": null,
   "metadata": {},
   "outputs": [],
   "source": [
    "# We can apply some nice formatting if we want to\n",
    "print('Test loss: {0:.2f}. Test accuracy: {1:.2f}%'.format(test_loss, test_accuracy*100.))"
   ]
  }
 ],
 "metadata": {
  "kernelspec": {
   "display_name": "Python 3.7.7 64-bit ('py3-TF2.0': conda)",
   "language": "python",
   "name": "python_defaultSpec_1597075383319"
  },
  "language_info": {
   "codemirror_mode": {
    "name": "ipython",
    "version": 3
   },
   "file_extension": ".py",
   "mimetype": "text/x-python",
   "name": "python",
   "nbconvert_exporter": "python",
   "pygments_lexer": "ipython3",
   "version": "3.7.7-final"
  }
 },
 "nbformat": 4,
 "nbformat_minor": 4
}